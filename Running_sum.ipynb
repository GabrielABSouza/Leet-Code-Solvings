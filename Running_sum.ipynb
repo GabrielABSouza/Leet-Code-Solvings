{
 "cells": [
  {
   "cell_type": "code",
   "execution_count": null,
   "id": "435fafab",
   "metadata": {},
   "outputs": [],
   "source": [
    "# This problem was divided in 3 cases \n",
    "# Case 1\n",
    "nums = [1,2,3,4]\n",
    "# Expected output:\n",
    "[1,3,6,10]\n",
    "\n",
    "# Case 2 \n",
    "nums = [1,1,1,1,1]\n",
    "# Expected output:\n",
    "[1,2,3,4,5]\n",
    "\n",
    "# Case 3\n",
    "nums = [3,1,2,10,1]\n",
    "# Expected output:\n",
    "[3,4,6,16,17]"
   ]
  },
  {
   "cell_type": "code",
   "execution_count": null,
   "id": "21bf51fa",
   "metadata": {},
   "outputs": [],
   "source": [
    "# The following algorithm was used on solving all 3 cases\n",
    "from typing import List\n",
    "class Solution:\n",
    "    def runningSum(self, nums: List[int]) -> List[int]:\n",
    "        for i in range(1, len(nums)):\n",
    "            nums[i] += nums[i - 1]\n",
    "        return nums\n",
    "    \n",
    "solution = Solution()\n",
    "print(solution.runningSum(nums.copy()))\n",
    "             "
   ]
  },
  {
   "cell_type": "code",
   "execution_count": 7,
   "id": "5f3de056",
   "metadata": {},
   "outputs": [
    {
     "name": "stdout",
     "output_type": "stream",
     "text": [
      "[1, 3, 6, 10]\n"
     ]
    }
   ],
   "source": [
    "# Solving case 1\n",
    "from typing import List\n",
    "\n",
    "nums = [1,2,3,4]\n",
    "\n",
    "class Solution:\n",
    "    def runningSum(self, nums: List[int]) -> List[int]:\n",
    "        for i in range(1, len(nums)):\n",
    "            nums[i] += nums[i - 1]\n",
    "        return nums\n",
    "\n",
    "solution = Solution()\n",
    "print(solution.runningSum(nums.copy()))"
   ]
  },
  {
   "cell_type": "code",
   "execution_count": 9,
   "id": "bc53e1cd",
   "metadata": {},
   "outputs": [
    {
     "name": "stdout",
     "output_type": "stream",
     "text": [
      "[1, 2, 3, 4, 5]\n"
     ]
    }
   ],
   "source": [
    "# Solving case 2\n",
    "from typing import List\n",
    "\n",
    "nums = [1,1,1,1,1]\n",
    "\n",
    "class Solution:\n",
    "    def runningSum(self, nums: List[int]) -> List[int]:\n",
    "        for i in range(1, len(nums)):\n",
    "            nums[i] += nums[i - 1]\n",
    "        return nums\n",
    "\n",
    "solution = Solution()\n",
    "print(solution.runningSum(nums.copy()))"
   ]
  },
  {
   "cell_type": "code",
   "execution_count": 10,
   "id": "47735ed6",
   "metadata": {},
   "outputs": [
    {
     "name": "stdout",
     "output_type": "stream",
     "text": [
      "[3, 4, 6, 16, 17]\n"
     ]
    }
   ],
   "source": [
    "# Solving case 3\n",
    "from typing import List\n",
    "\n",
    "nums = [3,1,2,10,1]\n",
    "\n",
    "class Solution:\n",
    "    def runningSum(self, nums: List[int]) -> List[int]:\n",
    "        for i in range(1, len(nums)):\n",
    "            nums[i] += nums[i - 1]\n",
    "        return nums\n",
    "\n",
    "solution = Solution()\n",
    "print(solution.runningSum(nums.copy()))"
   ]
  },
  {
   "cell_type": "code",
   "execution_count": null,
   "id": "e1ce66f9",
   "metadata": {},
   "outputs": [],
   "source": []
  }
 ],
 "metadata": {
  "kernelspec": {
   "display_name": "Python 3",
   "language": "python",
   "name": "python3"
  },
  "language_info": {
   "codemirror_mode": {
    "name": "ipython",
    "version": 3
   },
   "file_extension": ".py",
   "mimetype": "text/x-python",
   "name": "python",
   "nbconvert_exporter": "python",
   "pygments_lexer": "ipython3",
   "version": "3.12.1"
  }
 },
 "nbformat": 4,
 "nbformat_minor": 5
}
